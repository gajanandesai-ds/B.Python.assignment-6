{
 "cells": [
  {
   "cell_type": "raw",
   "id": "6d659f9a",
   "metadata": {},
   "source": [
    "1. What are escape characters, and how do you use them?"
   ]
  },
  {
   "cell_type": "raw",
   "id": "7ed7cda4",
   "metadata": {},
   "source": [
    "ans: Escape characters stop the complier from accepting part of a string as a command or input. is a sequence of character or string, does not represent itself but is converted into another charcter pr series of charcters that may be difficult or impossible to express diretly, like newline(\\n),tab(\\t) and so on.\n",
    "a character is preceded by a backslash(\\) followed by the charcter you want to represent for the new line"
   ]
  },
  {
   "cell_type": "code",
   "execution_count": null,
   "id": "a7c073a0",
   "metadata": {},
   "outputs": [],
   "source": []
  },
  {
   "cell_type": "raw",
   "id": "c096e2c3",
   "metadata": {},
   "source": [
    "2. What do the escape characters n and t stand for?"
   ]
  },
  {
   "cell_type": "raw",
   "id": "4c2bf5f7",
   "metadata": {},
   "source": [
    "ans: \\n is newline.\\t is a tab or indent.(it is used in representing certain whitespace character.\"\\t\" is a tab,\"\\n\" is a newline, and '\\r' is carriage return."
   ]
  },
  {
   "cell_type": "code",
   "execution_count": null,
   "id": "064d8d03",
   "metadata": {},
   "outputs": [],
   "source": []
  },
  {
   "cell_type": "raw",
   "id": "df44b4d2",
   "metadata": {},
   "source": [
    "33. What is the way to include backslash characters in a string?"
   ]
  },
  {
   "cell_type": "raw",
   "id": "b36df0d8",
   "metadata": {},
   "source": [
    "\\\\ ( Escape sequencees allow you to include special charcters in dtrings to do this simply add a backslash(\\) before the charcter you want to escape."
   ]
  },
  {
   "cell_type": "code",
   "execution_count": null,
   "id": "dcf7c5d4",
   "metadata": {},
   "outputs": [],
   "source": []
  },
  {
   "cell_type": "raw",
   "id": "444369b3",
   "metadata": {},
   "source": [
    "4. The string \"Howl's Moving Castle\" is a correct value. Why isn't the single quote character in the\n",
    "word Howl's not escaped a problem?"
   ]
  },
  {
   "cell_type": "raw",
   "id": "e1f349df",
   "metadata": {},
   "source": [
    "ans:Beacuse the whole string is encapuslated by quotes.(The single quote in howl's is fine because you've used double quotes to marks the beginning and end of the string.)"
   ]
  },
  {
   "cell_type": "code",
   "execution_count": null,
   "id": "82713990",
   "metadata": {},
   "outputs": [],
   "source": []
  },
  {
   "cell_type": "raw",
   "id": "8081c14e",
   "metadata": {},
   "source": [
    "5. How do you write a string of newlines if you don't want to use the n character?"
   ]
  },
  {
   "cell_type": "code",
   "execution_count": null,
   "id": "62acb70e",
   "metadata": {},
   "outputs": [],
   "source": [
    "ans:multiline strings allow you to use newline in strings without the\\n escape character"
   ]
  },
  {
   "cell_type": "code",
   "execution_count": null,
   "id": "5052aed8",
   "metadata": {},
   "outputs": [],
   "source": []
  },
  {
   "cell_type": "raw",
   "id": "94965a40",
   "metadata": {},
   "source": [
    "6. What are the values of the given expressions?\n",
    "'Hello, world!'[1]\n",
    "'Hello, world!'[0:5]\n",
    "'Hello, world!'[:5]\n",
    "'Hello, world!'[3:]"
   ]
  },
  {
   "cell_type": "raw",
   "id": "312d1c7d",
   "metadata": {},
   "source": [
    "ans:\n",
    "'e'\n",
    "\n",
    "'Hello'\n",
    "\n",
    "\"Hello'\n",
    "\n",
    "'lo world!'"
   ]
  },
  {
   "cell_type": "code",
   "execution_count": null,
   "id": "cdd27add",
   "metadata": {},
   "outputs": [],
   "source": []
  },
  {
   "cell_type": "raw",
   "id": "94cc6500",
   "metadata": {},
   "source": [
    "7. What are the values of the following expressions?\n",
    "'Hello'.upper()\n",
    "'Hello'.upper().isupper()\n",
    "'Hello'.upper().lower()"
   ]
  },
  {
   "cell_type": "raw",
   "id": "c49dae0f",
   "metadata": {},
   "source": [
    "ans: The  expressions evalute to the following:\n",
    "'HELLO'\n",
    "\n",
    "True\n",
    "\n",
    "'hello'"
   ]
  },
  {
   "cell_type": "code",
   "execution_count": null,
   "id": "897a8023",
   "metadata": {},
   "outputs": [],
   "source": []
  },
  {
   "cell_type": "raw",
   "id": "4fe03e39",
   "metadata": {},
   "source": [
    "8. What are the values of the following expressions?\n",
    "'Remember, remember, the fifth of July.'split()\n",
    "'-'.join('There can only one.'.split())"
   ]
  },
  {
   "cell_type": "raw",
   "id": "5b27a764",
   "metadata": {},
   "source": [
    "ans:The  expressions evalute to the following:\n",
    "['Remeber','remeber','the','fifth','of','November\".]\n",
    "\n",
    "'There-can-be-only-one'."
   ]
  },
  {
   "cell_type": "code",
   "execution_count": null,
   "id": "7ef7ec72",
   "metadata": {},
   "outputs": [],
   "source": []
  },
  {
   "cell_type": "raw",
   "id": "c27f69ef",
   "metadata": {},
   "source": [
    "9. What are the methods for right-justifying, left-justifying, and centering a string?"
   ]
  },
  {
   "cell_type": "raw",
   "id": "42b0a5bc",
   "metadata": {},
   "source": [
    "ans:The rjust(),ljust(),and center() string methods, repectively"
   ]
  },
  {
   "cell_type": "code",
   "execution_count": null,
   "id": "5bcf0837",
   "metadata": {},
   "outputs": [],
   "source": []
  },
  {
   "cell_type": "raw",
   "id": "e9f53e26",
   "metadata": {},
   "source": [
    "10. What is the best way to remove whitespace characters from the start or end?"
   ]
  },
  {
   "cell_type": "raw",
   "id": "329013b7",
   "metadata": {},
   "source": [
    "ans:The istrip () and rstrip() methods remove whitespae from the left and right ends of a string respectively."
   ]
  },
  {
   "cell_type": "code",
   "execution_count": null,
   "id": "5867f755",
   "metadata": {},
   "outputs": [],
   "source": []
  }
 ],
 "metadata": {
  "kernelspec": {
   "display_name": "Python 3",
   "language": "python",
   "name": "python3"
  },
  "language_info": {
   "codemirror_mode": {
    "name": "ipython",
    "version": 3
   },
   "file_extension": ".py",
   "mimetype": "text/x-python",
   "name": "python",
   "nbconvert_exporter": "python",
   "pygments_lexer": "ipython3",
   "version": "3.8.8"
  }
 },
 "nbformat": 4,
 "nbformat_minor": 5
}
